{
  "nbformat": 4,
  "nbformat_minor": 0,
  "metadata": {
    "colab": {
      "provenance": [],
      "authorship_tag": "ABX9TyMMn0lv7cGhEAiXaXQWr9LW",
      "include_colab_link": true
    },
    "kernelspec": {
      "name": "python3",
      "display_name": "Python 3"
    },
    "language_info": {
      "name": "python"
    }
  },
  "cells": [
    {
      "cell_type": "markdown",
      "metadata": {
        "id": "view-in-github",
        "colab_type": "text"
      },
      "source": [
        "<a href=\"https://colab.research.google.com/github/Vaamanikam11/Covid_Vaccine_Analysis/blob/main/SMDM_Part1.ipynb\" target=\"_parent\"><img src=\"https://colab.research.google.com/assets/colab-badge.svg\" alt=\"Open In Colab\"/></a>"
      ]
    },
    {
      "cell_type": "markdown",
      "source": [
        "**Part 1**"
      ],
      "metadata": {
        "id": "Sf10Nb7BkXmM"
      }
    },
    {
      "cell_type": "code",
      "execution_count": 1,
      "metadata": {
        "id": "ig4a8DIVjbUV"
      },
      "outputs": [],
      "source": [
        "import networkx as nx\n",
        "\n",
        "# Load the friends network from the GML file\n",
        "G1 = nx.read_gml('/content/friends.gml')"
      ]
    },
    {
      "cell_type": "markdown",
      "source": [
        "Q1)"
      ],
      "metadata": {
        "id": "NTy72mE0ka9x"
      }
    },
    {
      "cell_type": "code",
      "source": [
        "# Convert node labels to integers if they are not already\n",
        "G1 = nx.convert_node_labels_to_integers(G1, first_label=1, label_attribute='old_label')\n",
        "\n",
        "# Use the integer label for node 100 if necessary\n",
        "node_id = 100  # Adjust based on actual labeling\n",
        "\n",
        "# a) Degree Centrality (normalized)\n",
        "degree_centrality = nx.degree_centrality(G1).get(node_id)\n",
        "\n",
        "# b) Closeness Centrality\n",
        "closeness_centrality = nx.closeness_centrality(G1).get(node_id)\n",
        "\n",
        "# c) Normalized Betweenness Centrality\n",
        "betweenness_centrality = nx.betweenness_centrality(G1, normalized=True).get(node_id)\n",
        "\n",
        "print(f\"Degree Centrality: {degree_centrality}\")\n",
        "print(f\"Closeness Centrality: {closeness_centrality}\")\n",
        "print(f\"Normalized Betweenness Centrality: {betweenness_centrality}\")"
      ],
      "metadata": {
        "colab": {
          "base_uri": "https://localhost:8080/"
        },
        "id": "O04E4PS9jrdg",
        "outputId": "15d40eb9-528f-4dfc-9579-595b6e62a1c9"
      },
      "execution_count": 2,
      "outputs": [
        {
          "output_type": "stream",
          "name": "stdout",
          "text": [
            "Degree Centrality: 0.0026501766784452294\n",
            "Closeness Centrality: 0.2654784240150094\n",
            "Normalized Betweenness Centrality: 7.142902633244772e-05\n"
          ]
        }
      ]
    },
    {
      "cell_type": "markdown",
      "source": [
        "Q2)"
      ],
      "metadata": {
        "id": "OBSnUOTgkc-9"
      }
    },
    {
      "cell_type": "code",
      "source": [
        "# Assuming G1 is your network graph\n",
        "# Calculate degree centrality for all nodes\n",
        "degree_centrality = nx.degree_centrality(G1)\n",
        "\n",
        "# Find the node with the highest degree centrality\n",
        "best_user = max(degree_centrality, key=degree_centrality.get)\n",
        "best_user_centrality = degree_centrality[best_user]\n",
        "\n",
        "print(f\"The best user to send the voucher to is: {best_user} with a degree centrality of: {best_user_centrality}\")"
      ],
      "metadata": {
        "colab": {
          "base_uri": "https://localhost:8080/"
        },
        "id": "lqs0DRfyjtzr",
        "outputId": "786da3b7-6b46-464f-e479-6d5762575091"
      },
      "execution_count": 3,
      "outputs": [
        {
          "output_type": "stream",
          "name": "stdout",
          "text": [
            "The best user to send the voucher to is: 105 with a degree centrality of: 0.0636042402826855\n"
          ]
        }
      ]
    },
    {
      "cell_type": "markdown",
      "source": [
        "Q3)"
      ],
      "metadata": {
        "id": "UzCwCJ_oke7H"
      }
    },
    {
      "cell_type": "code",
      "source": [
        "def find_best_candidate_for_voucher(G):\n",
        "    \"\"\"\n",
        "    Identifies the best candidate (node) in a network for distributing a voucher,\n",
        "    based on closeness centrality to ensure the lowest average number of hops.\n",
        "\n",
        "    Parameters:\n",
        "    G (networkx.Graph): The network graph.\n",
        "\n",
        "    Returns:\n",
        "    tuple: The best candidate node and its closeness centrality value.\n",
        "    \"\"\"\n",
        "    # Calculate closeness centrality for all nodes\n",
        "    closeness_centrality = nx.closeness_centrality(G)\n",
        "\n",
        "    # Identify the node with the highest closeness centrality\n",
        "    best_candidate = max(closeness_centrality, key=closeness_centrality.get)\n",
        "    best_candidate_closeness = closeness_centrality[best_candidate]\n",
        "\n",
        "    return best_candidate, best_candidate_closeness\n",
        "\n",
        "# Assuming G1 is your network graph\n",
        "best_candidate, best_candidate_closeness = find_best_candidate_for_voucher(G1)\n",
        "print(f\"The best candidate is node {best_candidate} with a closeness centrality of {best_candidate_closeness}.\")\n"
      ],
      "metadata": {
        "colab": {
          "base_uri": "https://localhost:8080/"
        },
        "id": "aiec4yawjwnd",
        "outputId": "3fb148ba-fab6-4132-d06f-76a2087f0543"
      },
      "execution_count": 4,
      "outputs": [
        {
          "output_type": "stream",
          "name": "stdout",
          "text": [
            "The best candidate is node 23 with a closeness centrality of 0.3847722637661455.\n"
          ]
        }
      ]
    }
  ]
}